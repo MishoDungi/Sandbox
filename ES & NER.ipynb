{
 "cells": [
  {
   "cell_type": "code",
   "execution_count": 1,
   "metadata": {
    "collapsed": true
   },
   "outputs": [],
   "source": [
    "import os\n",
    "\n",
    "os.environ[\"GOOGLE_APPLICATION_CREDENTIALS\"] = \"key_file_kim.json\""
   ]
  },
  {
   "cell_type": "code",
   "execution_count": 2,
   "metadata": {
    "collapsed": true
   },
   "outputs": [],
   "source": [
    "from google.cloud import language\n",
    "language_client = language.LanguageServiceClient()"
   ]
  },
  {
   "cell_type": "code",
   "execution_count": null,
   "metadata": {
    "collapsed": true
   },
   "outputs": [],
   "source": [
    "# Run entity detection.\n",
    "def detect_entities(txt, language_client):\n",
    "    document = language.types.Document(\n",
    "        content=txt,\n",
    "        type=language.enums.Document.Type.PLAIN_TEXT,\n",
    "        language=\"en\")\n",
    "    entities = language_client.analyze_entities(document).entities\n",
    "    return entities\n",
    "\n",
    "def article_entity_extract(qry,language_client):\n",
    "    out=detect_entities(qry, language_client)\n",
    "\n",
    "    res_ner=[{'name':out[idx].name,\n",
    "      'type':out[idx].type,\n",
    "      'salience':out[idx].salience,\n",
    "      'mid':out[idx].metadata['mid'],\n",
    "      'url':out[idx].metadata['wikipedia_url'],\n",
    "      'mentions_unq':list(set([out[idx].mentions[i].text.content for i in range(len(out[idx].mentions))])),\n",
    "      'mentions_len': len(out[idx].mentions)} \n",
    "      for idx in range(len(out))]\n",
    "    return res_ner\n",
    "\n",
    "def collection_entity_extract(art_collect, path, name, publisher, language_client):\n",
    "    dt0=datetime.datetime.now()\n",
    "    for idx in range(len(art_collect)):\n",
    "        if art_collect[idx]['feed']['publisherName'] in publisher:\n",
    "            txt_string=str(art_collect[idx]['Title']+ '\\n'+str(art_collect[idx]['text']))\n",
    "            \n",
    "            assert(type(txt_string) is str)            \n",
    "            art_collect[idx]['entities']=article_entity_extract(txt_string,language_client)\n",
    "    with open(path+name+'_entities.txt', 'w') as f:\n",
    "        json.dump({'key':art_collect},f,ensure_ascii=False)\n",
    "    return art_collect"
   ]
  },
  {
   "cell_type": "code",
   "execution_count": 163,
   "metadata": {},
   "outputs": [],
   "source": [
    "import json\n",
    "\n",
    "with open('./RSS_IDs/rss_crawl2019-09-20 23-31-00.txt','r') as f:\n",
    "    art_collect=json.load(f)\n",
    "    #art_collect=json.loads(art1, object_hook=repl_keys)"
   ]
  },
  {
   "cell_type": "code",
   "execution_count": 95,
   "metadata": {},
   "outputs": [],
   "source": [
    "\n",
    "publisher = ['BBC', 'Reuters']"
   ]
  },
  {
   "cell_type": "code",
   "execution_count": 101,
   "metadata": {},
   "outputs": [
    {
     "data": {
      "text/plain": [
       "399"
      ]
     },
     "execution_count": 101,
     "metadata": {},
     "output_type": "execute_result"
    }
   ],
   "source": [
    "len(art_collect['key'])"
   ]
  },
  {
   "cell_type": "code",
   "execution_count": null,
   "metadata": {
    "collapsed": true
   },
   "outputs": [],
   "source": []
  },
  {
   "cell_type": "code",
   "execution_count": 164,
   "metadata": {},
   "outputs": [],
   "source": [
    "art_collect['key']=[rename_keys(art_collect['key'][i]) \n",
    "                    for i in range(len(art_collect['key'])) \n",
    "                    if art_collect['key'][i]['source'] in publisher]"
   ]
  },
  {
   "cell_type": "code",
   "execution_count": 161,
   "metadata": {
    "collapsed": true
   },
   "outputs": [],
   "source": [
    "def rename_keys(js1):\n",
    "    js=js1.copy()\n",
    "    js['site']=js['url']\n",
    "    repl_key(js,'rss','feed')    \n",
    "    js['url']=js['feed']['link']\n",
    "    del js['feed']['link']\n",
    "    js['feed']['publisherName']=js['source']\n",
    "    del js['source']\n",
    "    js['Title']=js['site']['Title']\n",
    "    del js['site']['Title']\n",
    "    js['text']=js['site']['Content']\n",
    "    del js['site']['Content']\n",
    "    \n",
    "    dt_rss=js['feed']['published_parsed']\n",
    "    dt_dt=datetime.datetime(dt_rss[0],dt_rss[1],dt_rss[2],dt_rss[3],dt_rss[4],dt_rss[5],dt_rss[6],)\n",
    "    dt=int(datetime.datetime.timestamp(dt_dt)*1000)\n",
    "    js['pub_date']={}\n",
    "    js['pub_date']['$date']=dt\n",
    "    return js\n",
    "\n",
    "def repl_key(js, old, new):\n",
    "    js[new]=js[old]\n",
    "    del js[old]\n",
    "    return js"
   ]
  },
  {
   "cell_type": "code",
   "execution_count": 137,
   "metadata": {},
   "outputs": [
    {
     "data": {
      "text/plain": [
       "'http://feeds.reuters.com/~r/reuters/businessNews/~3/1Nj45KUtLoY/wall-street-drops-after-china-cancels-trip-to-montana-farmland-idUSKBN1W51B6'"
      ]
     },
     "execution_count": 137,
     "metadata": {},
     "output_type": "execute_result"
    }
   ],
   "source": [
    "art_collect['key'][1]['url']"
   ]
  },
  {
   "cell_type": "code",
   "execution_count": 138,
   "metadata": {},
   "outputs": [
    {
     "data": {
      "text/plain": [
       "741"
      ]
     },
     "execution_count": 138,
     "metadata": {},
     "output_type": "execute_result"
    }
   ],
   "source": [
    "files=load_all_files('./RSS_IDs/')\n",
    "files=list(set(files)-{'rss_id_list.txt','log.txt'})\n",
    "len(files)"
   ]
  },
  {
   "cell_type": "code",
   "execution_count": 129,
   "metadata": {},
   "outputs": [],
   "source": []
  },
  {
   "cell_type": "code",
   "execution_count": 247,
   "metadata": {},
   "outputs": [
    {
     "data": {
      "text/plain": [
       "'20190924_0301'"
      ]
     },
     "execution_count": 247,
     "metadata": {},
     "output_type": "execute_result"
    }
   ],
   "source": []
  },
  {
   "cell_type": "code",
   "execution_count": 123,
   "metadata": {},
   "outputs": [],
   "source": [
    "def load_all_files(input_path):\n",
    "    from os import walk\n",
    "\n",
    "    f=[]\n",
    "    for (_,_,filenames) in walk(input_path):\n",
    "        f.extend(filenames)\n",
    "        break\n",
    "    filenames=list(set(filenames)-{'.DS_Store'})\n",
    "    filenames=sorted(filenames,reverse=True)\n",
    "\n",
    "    return filenames\n"
   ]
  },
  {
   "cell_type": "code",
   "execution_count": 136,
   "metadata": {
    "scrolled": true
   },
   "outputs": [
    {
     "data": {
      "text/plain": [
       "['rss_crawl2019-09-22 06-01-31.txt',\n",
       " 'rss_crawl2019-09-21 08-11-44.txt',\n",
       " 'rss_crawl2019-09-24 03-01-31.txt',\n",
       " 'rss_crawl2019-09-23 00-51-54.txt',\n",
       " 'rss_crawl2019-09-25 04-41-50.txt',\n",
       " 'rss_crawl2019-09-22 00-51-20.txt',\n",
       " 'rss_crawl2019-09-23 09-31-50.txt',\n",
       " 'rss_crawl2019-09-24 06-41-27.txt',\n",
       " 'rss_crawl2019-09-23 10-01-35.txt',\n",
       " 'rss_crawl2019-09-24 13-21-47.txt',\n",
       " 'rss_crawl2019-09-25 02-31-13.txt',\n",
       " 'rss_crawl2019-09-23 09-11-30.txt',\n",
       " 'rss_crawl2019-09-24 13-11-34.txt',\n",
       " 'rss_crawl2019-09-25 16-12-17.txt',\n",
       " 'rss_crawl2019-09-23 08-01-24.txt',\n",
       " 'rss_crawl2019-09-22 02-21-12.txt',\n",
       " 'rss_crawl2019-09-23 07-51-17.txt',\n",
       " 'rss_crawl2019-09-24 20-01-18.txt',\n",
       " 'rss_crawl2019-09-21 17-01-14.txt',\n",
       " 'rss_crawl2019-09-21 21-51-41.txt',\n",
       " 'rss_crawl2019-09-24 04-11-35.txt',\n",
       " 'rss_crawl2019-09-21 10-11-03.txt',\n",
       " 'rss_crawl2019-09-24 08-01-43.txt',\n",
       " 'rss_crawl2019-09-25 03-01-31.txt',\n",
       " 'rss_crawl2019-09-25 09-51-13.txt',\n",
       " 'rss_crawl2019-09-24 19-11-17.txt',\n",
       " 'rss_crawl2019-09-23 17-11-50.txt',\n",
       " 'rss_crawl2019-09-21 15-01-27.txt',\n",
       " 'rss_crawl2019-09-25 16-51-23.txt',\n",
       " 'rss_crawl2019-09-22 19-21-23.txt',\n",
       " 'rss_crawl2019-09-22 02-11-05.txt',\n",
       " 'rss_crawl2019-09-23 08-31-43.txt',\n",
       " 'rss_crawl2019-09-23 01-21-56.txt',\n",
       " 'rss_crawl2019-09-25 20-32-27.txt',\n",
       " 'rss_crawl2019-09-22 15-21-40.txt',\n",
       " 'rss_crawl2019-09-24 00-31-32.txt',\n",
       " 'rss_crawl2019-09-21 23-11-40.txt',\n",
       " 'rss_crawl2019-09-22 11-21-15.txt',\n",
       " 'rss_crawl2019-09-22 15-01-43.txt',\n",
       " 'rss_crawl2019-09-21 22-02-02.txt',\n",
       " 'rss_crawl2019-09-25 22-12-40.txt',\n",
       " 'rss_crawl2019-09-23 22-01-21.txt',\n",
       " 'rss_crawl2019-09-22 00-31-43.txt',\n",
       " 'rss_crawl2019-09-22 23-51-30.txt',\n",
       " 'rss_crawl2019-09-21 15-31-28.txt',\n",
       " 'rss_crawl2019-09-23 06-21-41.txt',\n",
       " 'rss_crawl2019-09-25 23-41-51.txt',\n",
       " 'rss_crawl2019-09-21 16-41-44.txt',\n",
       " 'rss_crawl2019-09-25 06-01-41.txt',\n",
       " 'rss_crawl2019-09-23 20-41-17.txt',\n",
       " 'rss_crawl2019-09-24 01-31-09.txt',\n",
       " 'rss_crawl2019-09-24 03-31-08.txt',\n",
       " 'rss_crawl2019-09-23 02-31-22.txt',\n",
       " 'rss_crawl2019-09-24 08-41-32.txt',\n",
       " 'rss_crawl2019-09-25 15-21-52.txt',\n",
       " 'rss_crawl2019-09-25 14-52-12.txt',\n",
       " 'rss_crawl2019-09-23 00-21-45.txt',\n",
       " 'rss_crawl2019-09-25 02-01-28.txt',\n",
       " 'rss_crawl2019-09-22 08-21-39.txt',\n",
       " 'rss_crawl2019-09-22 20-31-31.txt',\n",
       " 'rss_crawl2019-09-21 15-41-38.txt',\n",
       " 'rss_crawl2019-09-25 19-32-27.txt',\n",
       " 'rss_crawl2019-09-22 06-41-14.txt',\n",
       " 'rss_crawl2019-09-22 13-21-22.txt',\n",
       " 'rss_crawl2019-09-24 00-41-52.txt',\n",
       " 'rss_crawl2019-09-25 01-21-36.txt',\n",
       " 'rss_crawl2019-09-25 22-52-14.txt',\n",
       " 'rss_crawl2019-09-25 05-51-33.txt',\n",
       " 'rss_crawl2019-09-23 02-51-34.txt',\n",
       " 'rss_crawl2019-09-22 19-31-32.txt',\n",
       " 'rss_crawl2019-09-24 19-21-27.txt',\n",
       " 'rss_crawl2019-09-22 17-01-25.txt',\n",
       " 'rss_crawl2019-09-22 09-21-41.txt',\n",
       " 'rss_crawl2019-09-24 01-21-45.txt',\n",
       " 'rss_crawl2019-09-21 11-21-10.txt',\n",
       " 'rss_crawl2019-09-24 23-31-19.txt',\n",
       " 'rss_crawl2019-09-25 23-34-40.txt',\n",
       " 'rss_crawl2019-09-22 01-31-17.txt',\n",
       " 'rss_crawl2019-09-24 04-01-28.txt',\n",
       " 'rss_crawl2019-09-23 20-51-27.txt',\n",
       " 'rss_crawl2019-09-26 00-52-09.txt',\n",
       " 'rss_crawl2019-09-24 02-41-16.txt',\n",
       " 'rss_crawl2019-09-24 00-11-52.txt',\n",
       " 'rss_crawl2019-09-24 14-21-25.txt',\n",
       " 'rss_crawl2019-09-24 17-21-09.txt',\n",
       " 'rss_crawl2019-09-22 16-32-22.txt',\n",
       " 'rss_crawl2019-09-22 23-11-05.txt',\n",
       " 'rss_crawl2019-09-24 07-31-23.txt',\n",
       " 'rss_crawl2019-09-25 17-42-20.txt',\n",
       " 'rss_crawl2019-09-25 19-21-58.txt',\n",
       " 'rss_crawl2019-09-23 02-41-49.txt',\n",
       " 'rss_crawl2019-09-24 08-31-27.txt',\n",
       " 'rss_crawl2019-09-24 03-11-39.txt',\n",
       " 'rss_crawl2019-09-23 14-11-11.txt',\n",
       " 'rss_crawl2019-09-24 15-51-45.txt',\n",
       " 'rss_crawl2019-09-23 10-41-27.txt',\n",
       " 'rss_crawl2019-09-21 13-51-15.txt',\n",
       " 'rss_crawl2019-09-24 07-01-40.txt',\n",
       " 'rss_crawl2019-09-25 23-51-41.txt',\n",
       " 'rss_crawl2019-09-24 01-41-19.txt',\n",
       " 'rss_crawl2019-09-24 18-01-19.txt',\n",
       " 'rss_crawl2019-09-25 06-41-28.txt',\n",
       " 'rss_crawl2019-09-22 09-11-34.txt',\n",
       " 'rss_crawl2019-09-23 22-22-13.txt',\n",
       " 'rss_crawl2019-09-21 13-01-23.txt',\n",
       " 'rss_crawl2019-09-24 02-11-40.txt',\n",
       " 'rss_crawl2019-09-23 07-31-46.txt',\n",
       " 'rss_crawl2019-09-24 17-11-45.txt',\n",
       " 'rss_crawl2019-09-25 08-01-11.txt',\n",
       " 'rss_crawl2019-09-23 21-41-41.txt',\n",
       " 'rss_crawl2019-09-24 01-01-28.txt',\n",
       " 'rss_crawl2019-09-24 00-21-16.txt',\n",
       " 'rss_crawl2019-09-24 01-11-37.txt',\n",
       " 'rss_crawl2019-09-24 12-41-44.txt',\n",
       " 'rss_crawl2019-09-22 01-41-23.txt',\n",
       " 'rss_crawl2019-09-22 23-41-38.txt',\n",
       " 'rss_crawl2019-09-23 19-11-16.txt',\n",
       " 'rss_crawl2019-09-23 18-21-50.txt',\n",
       " 'rss_crawl2019-09-24 15-21-51.txt',\n",
       " 'rss_crawl2019-09-22 08-01-25.txt',\n",
       " 'rss_crawl2019-09-22 22-11-26.txt',\n",
       " 'rss_crawl2019-09-24 11-41-17.txt',\n",
       " 'rss_crawl2019-09-23 14-01-45.txt',\n",
       " 'rss_crawl2019-09-22 11-41-38.txt',\n",
       " 'rss_crawl2019-09-25 09-41-02.txt',\n",
       " 'rss_crawl2019-09-22 14-51-29.txt',\n",
       " 'rss_crawl2019-09-22 08-51-18.txt',\n",
       " 'rss_crawl2019-09-21 13-21-39.txt',\n",
       " 'rss_crawl2019-09-24 20-41-30.txt',\n",
       " 'rss_crawl2019-09-24 21-11-16.txt',\n",
       " 'rss_crawl2019-09-22 21-31-28.txt',\n",
       " 'rss_crawl2019-09-25 01-41-14.txt',\n",
       " 'rss_crawl2019-09-22 13-31-30.txt',\n",
       " 'rss_crawl2019-09-24 08-51-40.txt',\n",
       " 'rss_crawl2019-09-22 08-31-46.txt',\n",
       " 'rss_crawl2019-09-24 05-11-50.txt',\n",
       " 'rss_crawl2019-09-24 06-51-32.txt',\n",
       " 'rss_crawl2019-09-23 17-51-19.txt',\n",
       " 'rss_crawl2019-09-24 16-41-10.txt',\n",
       " 'rss_crawl2019-09-24 16-21-33.txt',\n",
       " 'rss_crawl2019-09-22 07-11-34.txt',\n",
       " 'rss_crawl2019-09-25 12-51-33.txt',\n",
       " 'rss_crawl2019-09-25 17-12-45.txt',\n",
       " 'rss_crawl2019-09-23 02-11-56.txt',\n",
       " 'rss_crawl2019-09-24 23-21-11.txt',\n",
       " 'rss_crawl2019-09-23 19-01-48.txt',\n",
       " 'rss_crawl2019-09-22 12-31-11.txt',\n",
       " 'rss_crawl2019-09-25 14-02-22.txt',\n",
       " 'rss_crawl2019-09-24 11-01-15.txt',\n",
       " 'rss_crawl2019-09-23 19-51-07.txt',\n",
       " 'rss_crawl2019-09-23 21-11-08.txt',\n",
       " 'rss_crawl2019-09-25 08-21-25.txt',\n",
       " 'rss_crawl2019-09-23 07-01-27.txt',\n",
       " 'rss_crawl2019-09-22 02-41-25.txt',\n",
       " 'rss_crawl2019-09-23 23-51-22.txt',\n",
       " 'rss_crawl2019-09-22 17-11-34.txt',\n",
       " 'rss_crawl2019-09-21 09-31-12.txt',\n",
       " 'rss_crawl2019-09-23 07-11-32.txt',\n",
       " 'rss_crawl2019-09-25 08-31-31.txt',\n",
       " 'rss_crawl2019-09-25 07-11-03.txt',\n",
       " 'rss_crawl2019-09-23 11-31-29.txt',\n",
       " 'rss_crawl2019-09-25 15-55-09.txt',\n",
       " 'rss_crawl2019-09-25 20-24-34.txt',\n",
       " 'rss_crawl2019-09-23 17-31-39.txt',\n",
       " 'rss_crawl2019-09-22 04-41-20.txt',\n",
       " 'rss_crawl2019-09-24 17-51-53.txt',\n",
       " 'rss_crawl2019-09-25 16-31-55.txt',\n",
       " 'rss_crawl2019-09-21 19-11-31.txt',\n",
       " 'rss_crawl2019-09-24 11-31-46.txt',\n",
       " 'rss_crawl2019-09-23 20-11-23.txt',\n",
       " 'rss_crawl2019-09-23 10-11-43.txt',\n",
       " 'rss_crawl2019-09-26 00-12-10.txt',\n",
       " 'rss_crawl2019-09-25 18-31-19.txt',\n",
       " 'rss_crawl2019-09-25 20-14-36.txt',\n",
       " 'rss_crawl2019-09-21 11-41-29.txt',\n",
       " 'rss_crawl2019-09-21 07-21-04.txt',\n",
       " 'rss_crawl2019-09-25 02-41-19.txt',\n",
       " 'rss_crawl2019-09-23 11-11-15.txt',\n",
       " 'rss_crawl2019-09-23 23-01-21.txt',\n",
       " 'rss_crawl2019-09-25 23-21-40.txt',\n",
       " 'rss_crawl2019-09-25 16-41-48.txt',\n",
       " 'rss_crawl2019-09-26 00-22-07.txt',\n",
       " 'rss_crawl2019-09-25 01-31-43.txt',\n",
       " 'rss_crawl2019-09-21 19-31-43.txt',\n",
       " 'rss_crawl2019-09-22 12-01-22.txt',\n",
       " 'rss_crawl2019-09-25 07-41-43.txt',\n",
       " 'rss_crawl2019-09-25 19-54-00.txt',\n",
       " 'rss_crawl2019-09-21 19-21-36.txt',\n",
       " 'rss_crawl2019-09-24 00-51-18.txt',\n",
       " 'rss_crawl2019-09-24 02-01-33.txt',\n",
       " 'rss_crawl2019-09-21 00-11-40.txt',\n",
       " 'rss_crawl2019-09-24 00-01-37.txt',\n",
       " 'rss_crawl2019-09-24 21-51-28.txt',\n",
       " 'rss_crawl2019-09-22 22-01-20.txt',\n",
       " 'rss_crawl2019-09-24 22-01-38.txt',\n",
       " 'rss_crawl2019-09-23 04-01-39.txt',\n",
       " 'rss_crawl2019-09-23 13-41-23.txt',\n",
       " 'rss_crawl2019-09-25 01-11-21.txt',\n",
       " 'rss_crawl2019-09-22 10-41-22.txt',\n",
       " 'rss_crawl2019-09-24 10-01-13.txt',\n",
       " 'rss_crawl2019-09-24 01-51-27.txt',\n",
       " 'rss_crawl2019-09-23 12-51-19.txt',\n",
       " 'rss_crawl2019-09-21 12-11-17.txt',\n",
       " 'rss_crawl2019-09-25 18-54-31.txt',\n",
       " 'rss_crawl2019-09-25 10-51-11.txt',\n",
       " 'rss_crawl2019-09-22 12-51-44.txt',\n",
       " 'rss_crawl2019-09-23 16-51-32.txt',\n",
       " 'rss_crawl2019-09-21 20-01-36.txt',\n",
       " 'rss_crawl2019-09-23 01-31-39.txt',\n",
       " 'rss_crawl2019-09-23 14-51-49.txt',\n",
       " 'rss_crawl2019-09-25 18-12-20.txt',\n",
       " 'rss_crawl2019-09-24 09-51-03.txt',\n",
       " 'rss_crawl2019-09-22 11-51-11.txt',\n",
       " 'rss_crawl2019-09-23 19-21-27.txt',\n",
       " 'rss_crawl2019-09-22 01-01-27.txt',\n",
       " 'rss_crawl2019-09-25 10-01-20.txt',\n",
       " 'rss_crawl2019-09-23 22-31-41.txt',\n",
       " 'rss_crawl2019-09-24 10-31-37.txt',\n",
       " 'rss_crawl2019-09-21 22-41-17.txt',\n",
       " 'rss_crawl2019-09-24 17-01-33.txt',\n",
       " 'rss_crawl2019-09-23 21-51-10.txt',\n",
       " 'rss_crawl2019-09-22 22-41-33.txt',\n",
       " 'rss_crawl2019-09-23 20-21-36.txt',\n",
       " 'rss_crawl2019-09-25 21-01-49.txt',\n",
       " 'rss_crawl2019-09-25 13-12-25.txt',\n",
       " 'rss_crawl2019-09-24 19-51-09.txt',\n",
       " 'rss_crawl2019-09-23 03-21-13.txt',\n",
       " 'rss_crawl2019-09-24 23-51-32.txt',\n",
       " 'rss_crawl2019-09-23 15-11-29.txt',\n",
       " 'rss_crawl2019-09-23 18-31-17.txt',\n",
       " 'rss_crawl2019-09-25 12-11-32.txt',\n",
       " 'rss_crawl2019-09-24 21-31-46.txt',\n",
       " 'rss_crawl2019-09-22 00-21-35.txt',\n",
       " 'rss_crawl2019-09-21 14-01-21.txt',\n",
       " 'rss_crawl2019-09-24 22-51-35.txt',\n",
       " 'rss_crawl2019-09-21 13-41-10.txt',\n",
       " 'rss_crawl2019-09-25 18-22-37.txt',\n",
       " 'rss_crawl2019-09-25 11-21-34.txt',\n",
       " 'rss_crawl2019-09-21 14-31-40.txt',\n",
       " 'rss_crawl2019-09-24 19-41-46.txt',\n",
       " 'rss_crawl2019-09-24 21-01-49.txt',\n",
       " 'rss_crawl2019-09-25 12-01-23.txt',\n",
       " 'rss_crawl2019-09-23 18-41-26.txt',\n",
       " 'rss_crawl2019-09-22 21-21-22.txt',\n",
       " 'rss_crawl2019-09-22 04-51-28.txt',\n",
       " 'rss_crawl2019-09-24 13-01-25.txt',\n",
       " 'rss_crawl2019-09-25 05-21-20.txt',\n",
       " 'rss_crawl2019-09-25 22-32-13.txt',\n",
       " 'rss_crawl2019-09-22 21-01-12.txt',\n",
       " 'rss_crawl2019-09-23 06-31-03.txt',\n",
       " 'rss_crawl2019-09-25 07-51-08.txt',\n",
       " 'rss_crawl2019-09-25 12-42-34.txt',\n",
       " 'rss_crawl2019-09-23 08-41-07.txt',\n",
       " 'rss_crawl2019-09-26 01-51-52.txt',\n",
       " 'rss_crawl2019-09-22 10-01-28.txt',\n",
       " 'rss_crawl2019-09-21 12-31-47.txt',\n",
       " 'rss_crawl2019-09-25 09-11-16.txt',\n",
       " 'rss_crawl2019-09-22 05-21-47.txt',\n",
       " 'rss_crawl2019-09-24 23-11-06.txt',\n",
       " 'rss_crawl2019-09-24 18-11-32.txt',\n",
       " 'rss_crawl2019-09-21 08-01-35.txt',\n",
       " 'rss_crawl2019-09-25 04-01-21.txt',\n",
       " 'rss_crawl2019-09-23 22-11-35.txt',\n",
       " 'rss_crawl2019-09-23 15-01-19.txt',\n",
       " 'rss_crawl2019-09-22 00-01-47.txt',\n",
       " 'rss_crawl2019-09-23 12-31-47.txt',\n",
       " 'rss_crawl2019-09-22 02-51-32.txt',\n",
       " 'rss_crawl2019-09-21 08-21-04.txt',\n",
       " 'rss_crawl2019-09-25 21-22-36.txt',\n",
       " 'rss_crawl2019-09-24 09-41-39.txt',\n",
       " 'rss_crawl2019-09-21 23-01-31.txt',\n",
       " 'rss_crawl2019-09-22 17-41-10.txt',\n",
       " 'rss_crawl2019-09-25 02-51-27.txt',\n",
       " 'rss_crawl2019-09-25 00-21-12.txt',\n",
       " 'rss_crawl2019-09-24 14-01-45.txt',\n",
       " 'rss_crawl2019-09-22 14-01-15.txt',\n",
       " 'rss_crawl2019-09-21 15-21-55.txt',\n",
       " 'rss_crawl2019-09-22 23-21-13.txt',\n",
       " 'rss_crawl2019-09-23 23-11-30.txt',\n",
       " 'rss_crawl2019-09-25 00-01-40.txt',\n",
       " 'rss_crawl2019-09-25 11-51-14.txt',\n",
       " 'rss_crawl2019-09-22 17-51-22.txt',\n",
       " 'rss_crawl2019-09-23 20-31-49.txt',\n",
       " 'rss_crawl2019-09-24 13-51-31.txt',\n",
       " 'rss_crawl2019-09-23 19-31-35.txt',\n",
       " 'rss_crawl2019-09-23 12-11-25.txt',\n",
       " 'rss_crawl2019-09-21 12-21-34.txt',\n",
       " 'rss_crawl2019-09-25 15-42-44.txt',\n",
       " 'rss_crawl2019-09-24 16-31-42.txt',\n",
       " 'rss_crawl2019-09-22 03-41-23.txt',\n",
       " 'rss_crawl2019-09-25 20-41-28.txt',\n",
       " 'rss_crawl2019-09-25 20-01-30.txt',\n",
       " 'rss_crawl2019-09-24 06-11-04.txt',\n",
       " 'rss_crawl2019-09-21 09-21-48.txt',\n",
       " 'rss_crawl2019-09-25 09-31-41.txt',\n",
       " 'rss_crawl2019-09-24 18-31-17.txt',\n",
       " 'rss_crawl2019-09-25 13-41-55.txt',\n",
       " 'rss_crawl2019-09-25 18-58-43.txt',\n",
       " 'rss_crawl2019-09-24 23-41-25.txt',\n",
       " 'rss_crawl2019-09-25 23-02-13.txt',\n",
       " 'rss_crawl2019-09-23 03-51-33.txt',\n",
       " 'rss_crawl2019-09-25 00-51-43.txt',\n",
       " 'rss_crawl2019-09-24 12-01-40.txt',\n",
       " 'rss_crawl2019-09-21 22-31-10.txt',\n",
       " 'rss_crawl2019-09-22 14-21-38.txt',\n",
       " 'rss_crawl2019-09-24 02-31-12.txt',\n",
       " 'rss_crawl2019-09-24 11-51-30.txt',\n",
       " 'rss_crawl2019-09-21 12-51-17.txt',\n",
       " 'rss_crawl2019-09-21 17-41-44.txt',\n",
       " 'rss_crawl2019-09-23 11-21-24.txt',\n",
       " 'rss_crawl2019-09-23 17-21-21.txt',\n",
       " 'rss_crawl2019-09-23 12-41-11.txt',\n",
       " 'rss_crawl2019-09-22 20-01-09.txt',\n",
       " 'rss_crawl2019-09-25 12-33-00.txt',\n",
       " 'rss_crawl2019-09-22 20-41-41.txt',\n",
       " 'rss_crawl2019-09-21 06-31-21.txt',\n",
       " 'rss_crawl2019-09-21 20-31-20.txt',\n",
       " 'rss_crawl2019-09-25 03-51-18.txt',\n",
       " 'rss_crawl2019-09-23 08-51-15.txt',\n",
       " 'rss_crawl2019-09-24 09-11-13.txt',\n",
       " 'rss_crawl2019-09-24 10-11-17.txt',\n",
       " 'rss_crawl2019-09-23 16-31-14.txt',\n",
       " 'rss_crawl2019-09-23 20-01-15.txt',\n",
       " 'rss_crawl2019-09-23 21-21-18.txt',\n",
       " 'rss_crawl2019-09-22 02-01-43.txt',\n",
       " 'rss_crawl2019-09-23 15-51-22.txt',\n",
       " 'rss_crawl2019-09-24 14-51-15.txt',\n",
       " 'rss_crawl2019-09-21 16-51-05.txt',\n",
       " 'rss_crawl2019-09-23 02-21-37.txt',\n",
       " 'rss_crawl2019-09-22 09-31-51.txt',\n",
       " 'rss_crawl2019-09-21 05-47-32.txt',\n",
       " 'rss_crawl2019-09-25 23-12-35.txt',\n",
       " 'rss_crawl2019-09-22 17-21-41.txt',\n",
       " 'rss_crawl2019-09-25 14-32-37.txt',\n",
       " 'rss_crawl2019-09-22 16-51-07.txt',\n",
       " 'rss_crawl2019-09-23 21-31-30.txt',\n",
       " 'rss_crawl2019-09-23 01-01-41.txt',\n",
       " 'rss_crawl2019-09-22 16-21-19.txt',\n",
       " 'rss_crawl2019-09-23 23-21-43.txt',\n",
       " 'rss_crawl2019-09-23 05-01-33.txt',\n",
       " 'rss_crawl2019-09-24 10-51-08.txt',\n",
       " 'rss_crawl2019-09-23 15-31-48.txt',\n",
       " 'rss_crawl2019-09-23 08-11-32.txt',\n",
       " 'rss_crawl2019-09-25 10-41-47.txt',\n",
       " 'rss_crawl2019-09-23 03-11-04.txt',\n",
       " 'rss_crawl2019-09-24 12-11-51.txt',\n",
       " 'rss_crawl2019-09-23 12-01-14.txt',\n",
       " 'rss_crawl2019-09-23 23-41-15.txt',\n",
       " 'rss_crawl2019-09-22 01-11-36.txt',\n",
       " 'rss_crawl2019-09-25 01-01-06.txt',\n",
       " 'rss_crawl2019-09-21 10-21-10.txt',\n",
       " 'rss_crawl2019-09-21 20-51-35.txt',\n",
       " 'rss_crawl2019-09-23 03-31-18.txt',\n",
       " 'rss_crawl2019-09-21 19-51-30.txt',\n",
       " 'rss_crawl2019-09-21 14-41-13.txt',\n",
       " 'rss_crawl2019-09-24 12-31-29.txt',\n",
       " 'rss_crawl2019-09-21 16-21-28.txt',\n",
       " 'rss_crawl2019-09-21 09-51-33.txt',\n",
       " 'rss_crawl2019-09-26 00-43-00.txt',\n",
       " 'rss_crawl2019-09-24 09-01-50.txt',\n",
       " 'rss_crawl2019-09-22 20-21-24.txt',\n",
       " 'rss_crawl2019-09-25 14-22-28.txt',\n",
       " 'rss_crawl2019-09-24 23-01-43.txt',\n",
       " 'rss_crawl2019-09-23 10-31-18.txt',\n",
       " 'rss_crawl2019-09-22 07-21-42.txt',\n",
       " 'rss_crawl2019-09-25 21-11-35.txt',\n",
       " 'rss_crawl2019-09-25 21-53-08.txt',\n",
       " 'rss_crawl2019-09-24 13-41-22.txt',\n",
       " 'rss_crawl2019-09-22 23-31-46.txt',\n",
       " 'rss_crawl2019-09-23 22-41-47.txt',\n",
       " 'rss_crawl2019-09-23 10-21-09.txt',\n",
       " 'rss_crawl2019-09-21 13-11-28.txt',\n",
       " 'rss_crawl2019-09-25 01-51-21.txt',\n",
       " 'rss_crawl2019-09-23 09-01-21.txt',\n",
       " 'rss_crawl2019-09-23 15-41-14.txt',\n",
       " 'rss_crawl2019-09-22 01-51-30.txt',\n",
       " 'rss_crawl2019-09-24 10-21-28.txt',\n",
       " 'rss_crawl2019-09-23 18-11-39.txt',\n",
       " 'rss_crawl2019-09-24 04-21-45.txt',\n",
       " 'rss_crawl2019-09-22 07-01-28.txt',\n",
       " 'rss_crawl2019-09-23 17-01-38.txt',\n",
       " 'rss_crawl2019-09-22 10-31-14.txt',\n",
       " 'rss_crawl2019-09-24 06-31-20.txt',\n",
       " 'rss_crawl2019-09-20 23-33-22.txt',\n",
       " 'rss_crawl2019-09-22 16-01-47.txt',\n",
       " 'rss_crawl2019-09-24 14-11-12.txt',\n",
       " 'rss_crawl2019-09-23 16-11-39.txt',\n",
       " 'rss_crawl2019-09-25 13-31-55.txt',\n",
       " 'rss_crawl2019-09-25 09-01-08.txt',\n",
       " 'rss_crawl2019-09-24 13-31-09.txt',\n",
       " 'rss_crawl2019-09-23 13-11-41.txt',\n",
       " 'rss_crawl2019-09-23 12-21-34.txt',\n",
       " 'rss_crawl2019-09-25 22-21-47.txt',\n",
       " 'rss_crawl2019-09-21 10-41-24.txt',\n",
       " 'rss_crawl2019-09-24 18-41-30.txt',\n",
       " 'rss_crawl2019-09-26 00-32-14.txt',\n",
       " 'rss_crawl2019-09-25 00-11-46.txt',\n",
       " 'rss_crawl2019-09-24 17-31-24.txt',\n",
       " 'rss_crawl2019-09-21 20-21-14.txt',\n",
       " 'rss_crawl2019-09-23 16-41-23.txt',\n",
       " 'rss_crawl2019-09-22 00-41-11.txt',\n",
       " 'rss_crawl2019-09-21 00-01-31.txt',\n",
       " 'rss_crawl2019-09-23 14-41-38.txt',\n",
       " 'rss_crawl2019-09-23 01-11-23.txt',\n",
       " 'rss_crawl2019-09-24 15-41-34.txt',\n",
       " 'rss_crawl2019-09-23 10-51-36.txt',\n",
       " 'rss_crawl2019-09-24 19-31-36.txt',\n",
       " 'rss_crawl2019-09-21 21-31-26.txt',\n",
       " 'rss_crawl2019-09-23 21-01-40.txt',\n",
       " 'rss_crawl2019-09-21 14-51-19.txt',\n",
       " 'rss_crawl2019-09-26 01-41-49.txt',\n",
       " 'rss_crawl2019-09-23 06-41-12.txt',\n",
       " 'rss_crawl2019-09-22 17-31-06.txt',\n",
       " 'rss_crawl2019-09-21 11-11-45.txt',\n",
       " 'rss_crawl2019-09-24 21-41-14.txt',\n",
       " 'rss_crawl2019-09-24 08-21-17.txt',\n",
       " 'rss_crawl2019-09-25 13-04-20.txt',\n",
       " 'rss_crawl2019-09-22 14-31-54.txt',\n",
       " 'rss_crawl2019-09-25 17-21-16.txt',\n",
       " 'rss_crawl2019-09-24 16-01-10.txt',\n",
       " 'rss_crawl2019-09-24 05-31-22.txt',\n",
       " 'rss_crawl2019-09-25 17-31-56.txt',\n",
       " 'rss_crawl2019-09-23 18-01-29.txt',\n",
       " 'rss_crawl2019-09-23 22-51-15.txt',\n",
       " 'rss_crawl2019-09-22 12-11-34.txt',\n",
       " 'rss_crawl2019-09-22 18-01-38.txt',\n",
       " 'rss_crawl2019-09-25 20-52-34.txt',\n",
       " 'rss_crawl2019-09-23 06-11-34.txt',\n",
       " 'rss_crawl2019-09-20 23-31-00.txt',\n",
       " 'rss_crawl2019-09-24 03-51-21.txt',\n",
       " 'rss_crawl2019-09-21 16-11-23.txt',\n",
       " 'rss_crawl2019-09-22 21-41-38.txt',\n",
       " 'rss_crawl2019-09-25 00-31-18.txt',\n",
       " 'rss_crawl2019-09-25 14-42-12.txt',\n",
       " 'rss_crawl2019-09-22 21-11-19.txt',\n",
       " 'rss_crawl2019-09-22 18-21-05.txt',\n",
       " 'rss_crawl2019-09-23 05-41-11.txt',\n",
       " 'rss_crawl2019-09-26 01-11-48.txt',\n",
       " 'rss_crawl2019-09-23 04-51-25.txt',\n",
       " 'rss_crawl2019-09-22 18-41-19.txt',\n",
       " 'rss_crawl2019-09-21 07-31-08.txt',\n",
       " 'rss_crawl2019-09-25 16-03-52.txt',\n",
       " 'rss_crawl2019-09-24 22-41-23.txt',\n",
       " 'rss_crawl2019-09-22 13-11-44.txt',\n",
       " 'rss_crawl2019-09-22 18-11-43.txt',\n",
       " 'rss_crawl2019-09-21 14-21-35.txt',\n",
       " 'rss_crawl2019-09-23 00-11-57.txt',\n",
       " 'rss_crawl2019-09-22 05-51-25.txt',\n",
       " 'rss_crawl2019-09-25 19-43-58.txt',\n",
       " 'rss_crawl2019-09-22 22-31-59.txt',\n",
       " 'rss_crawl2019-09-25 04-11-28.txt',\n",
       " 'rss_crawl2019-09-24 06-01-42.txt',\n",
       " 'rss_crawl2019-09-24 08-11-05.txt',\n",
       " 'rss_crawl2019-09-23 13-01-28.txt',\n",
       " 'rss_crawl2019-09-25 19-01-51.txt',\n",
       " 'rss_crawl2019-09-21 18-21-36.txt',\n",
       " 'rss_crawl2019-09-25 07-31-37.txt',\n",
       " 'rss_crawl2019-09-24 18-21-48.txt',\n",
       " 'rss_crawl2019-09-24 20-51-41.txt',\n",
       " 'rss_crawl2019-09-24 11-11-26.txt',\n",
       " 'rss_crawl2019-09-22 16-41-48.txt',\n",
       " 'rss_crawl2019-09-25 21-41-04.txt',\n",
       " 'rss_crawl2019-09-22 12-21-45.txt',\n",
       " 'rss_crawl2019-09-23 04-21-10.txt',\n",
       " 'rss_crawl2019-09-22 13-51-09.txt',\n",
       " 'rss_crawl2019-09-23 05-11-40.txt',\n",
       " 'rss_crawl2019-09-25 02-11-40.txt',\n",
       " 'rss_crawl2019-09-25 09-21-28.txt',\n",
       " 'rss_crawl2019-09-24 20-11-27.txt',\n",
       " 'rss_crawl2019-09-25 03-21-41.txt',\n",
       " 'rss_crawl2019-09-24 07-51-36.txt',\n",
       " 'rss_crawl2019-09-21 18-01-19.txt',\n",
       " 'rss_crawl2019-09-24 17-41-38.txt',\n",
       " 'rss_crawl2019-09-26 01-31-59.txt',\n",
       " 'rss_crawl2019-09-25 10-31-40.txt',\n",
       " 'rss_crawl2019-09-24 02-51-26.txt',\n",
       " 'rss_crawl2019-09-25 07-01-42.txt',\n",
       " 'rss_crawl2019-09-20 23-51-49.txt',\n",
       " 'rss_crawl2019-09-21 12-41-11.txt',\n",
       " 'rss_crawl2019-09-21 21-01-42.txt',\n",
       " 'rss_crawl2019-09-22 09-41-15.txt',\n",
       " 'rss_crawl2019-09-25 17-52-33.txt',\n",
       " 'rss_crawl2019-09-25 11-01-16.txt',\n",
       " 'rss_crawl2019-09-23 05-31-06.txt',\n",
       " 'rss_crawl2019-09-23 00-31-34.txt',\n",
       " 'rss_crawl2019-09-21 17-21-50.txt',\n",
       " 'rss_crawl2019-09-21 11-01-37.txt',\n",
       " 'rss_crawl2019-09-25 11-41-47.txt',\n",
       " 'rss_crawl2019-09-23 18-51-37.txt',\n",
       " 'rss_crawl2019-09-23 00-41-19.txt',\n",
       " 'rss_crawl2019-09-22 13-41-47.txt',\n",
       " 'rss_crawl2019-09-21 09-41-21.txt',\n",
       " 'rss_crawl2019-09-25 18-00-57.txt',\n",
       " 'rss_crawl2019-09-23 16-21-51.txt',\n",
       " 'rss_crawl2019-09-21 14-11-29.txt',\n",
       " 'rss_crawl2019-09-25 03-31-02.txt',\n",
       " 'rss_crawl2019-09-25 02-21-49.txt',\n",
       " 'rss_crawl2019-09-22 18-51-35.txt',\n",
       " 'rss_crawl2019-09-23 04-31-17.txt',\n",
       " 'rss_crawl2019-09-22 08-11-32.txt',\n",
       " 'rss_crawl2019-09-26 02-22-33.txt',\n",
       " 'rss_crawl2019-09-22 11-01-44.txt',\n",
       " 'rss_crawl2019-09-26 01-21-55.txt',\n",
       " 'rss_crawl2019-09-22 01-21-47.txt',\n",
       " 'rss_crawl2019-09-21 17-31-27.txt',\n",
       " 'rss_crawl2019-09-24 12-51-09.txt',\n",
       " 'rss_crawl2019-09-25 04-31-36.txt',\n",
       " 'rss_crawl2019-09-22 22-22-02.txt',\n",
       " 'rss_crawl2019-09-21 16-31-36.txt',\n",
       " 'rss_crawl2019-09-23 13-51-38.txt',\n",
       " 'rss_crawl2019-09-23 11-01-45.txt',\n",
       " 'rss_crawl2019-09-24 22-11-45.txt',\n",
       " 'rss_crawl2019-09-24 05-01-39.txt',\n",
       " 'rss_crawl2019-09-20 23-41-34.txt',\n",
       " 'rss_crawl2019-09-25 06-11-08.txt',\n",
       " 'rss_crawl2019-09-24 14-31-34.txt',\n",
       " 'rss_crawl2019-09-24 09-31-31.txt',\n",
       " 'rss_crawl2019-09-22 10-21-45.txt',\n",
       " 'rss_crawl2019-09-25 16-22-22.txt',\n",
       " 'rss_crawl2019-09-23 13-21-10.txt',\n",
       " 'rss_crawl2019-09-25 06-21-17.txt',\n",
       " 'rss_crawl2019-09-22 19-11-04.txt',\n",
       " 'rss_crawl2019-09-22 14-11-23.txt',\n",
       " 'rss_crawl2019-09-25 22-03-10.txt',\n",
       " 'rss_crawl2019-09-24 04-41-22.txt',\n",
       " 'rss_crawl2019-09-21 05-29-35.txt',\n",
       " 'rss_crawl2019-09-22 19-51-47.txt',\n",
       " 'rss_crawl2019-09-24 05-41-29.txt',\n",
       " 'rss_crawl2019-09-25 08-11-19.txt',\n",
       " 'rss_crawl2019-09-24 04-31-14.txt',\n",
       " 'rss_crawl2019-09-25 00-41-29.txt',\n",
       " 'rss_crawl2019-09-25 22-42-03.txt',\n",
       " 'rss_crawl2019-09-22 11-31-22.txt',\n",
       " 'rss_crawl2019-09-24 18-51-38.txt',\n",
       " 'rss_crawl2019-09-24 09-21-22.txt',\n",
       " 'rss_crawl2019-09-22 10-11-34.txt',\n",
       " 'rss_crawl2019-09-25 13-22-04.txt',\n",
       " 'rss_crawl2019-09-22 11-11-07.txt',\n",
       " 'rss_crawl2019-09-23 11-51-04.txt',\n",
       " 'rss_crawl2019-09-23 06-51-24.txt',\n",
       " 'rss_crawl2019-09-25 04-51-10.txt',\n",
       " 'rss_crawl2019-09-23 00-02-12.txt',\n",
       " 'rss_crawl2019-09-21 17-51-10.txt',\n",
       " 'rss_crawl2019-09-23 16-01-31.txt',\n",
       " 'rss_crawl2019-09-24 22-21-08.txt',\n",
       " 'rss_crawl2019-09-26 02-11-49.txt',\n",
       " 'rss_crawl2019-09-24 16-11-23.txt',\n",
       " 'rss_crawl2019-09-24 20-31-18.txt',\n",
       " 'rss_crawl2019-09-21 10-31-19.txt',\n",
       " 'rss_crawl2019-09-23 07-21-38.txt',\n",
       " 'rss_crawl2019-09-25 21-31-46.txt',\n",
       " 'rss_crawl2019-09-25 10-21-33.txt',\n",
       " 'rss_crawl2019-09-23 19-41-45.txt',\n",
       " 'rss_crawl2019-09-21 21-41-33.txt',\n",
       " 'rss_crawl2019-09-21 09-01-30.txt',\n",
       " 'rss_crawl2019-09-21 18-11-26.txt',\n",
       " 'rss_crawl2019-09-21 17-11-22.txt',\n",
       " 'rss_crawl2019-09-24 21-21-32.txt',\n",
       " 'rss_crawl2019-09-21 09-11-36.txt',\n",
       " 'rss_crawl2019-09-23 07-41-08.txt',\n",
       " 'rss_crawl2019-09-20 23-32-10.txt',\n",
       " 'rss_crawl2019-09-25 15-34-01.txt',\n",
       " 'rss_crawl2019-09-25 11-11-28.txt',\n",
       " 'rss_crawl2019-09-23 13-31-16.txt',\n",
       " 'rss_crawl2019-09-21 21-11-11.txt',\n",
       " 'rss_crawl2019-09-24 06-21-12.txt',\n",
       " 'rss_crawl2019-09-24 11-21-37.txt',\n",
       " 'rss_crawl2019-09-24 05-21-15.txt',\n",
       " 'rss_crawl2019-09-25 08-41-41.txt',\n",
       " 'rss_crawl2019-09-25 10-11-29.txt',\n",
       " 'rss_crawl2019-09-25 11-31-40.txt',\n",
       " 'rss_crawl2019-09-25 03-41-08.txt',\n",
       " 'rss_crawl2019-09-24 07-21-16.txt',\n",
       " 'rss_crawl2019-09-22 00-11-22.txt',\n",
       " 'rss_crawl2019-09-24 15-31-18.txt',\n",
       " 'rss_crawl2019-09-22 19-01-40.txt',\n",
       " 'rss_crawl2019-09-21 15-51-04.txt',\n",
       " 'rss_crawl2019-09-24 15-01-25.txt',\n",
       " 'rss_crawl2019-09-22 10-51-33.txt',\n",
       " 'rss_crawl2019-09-24 10-41-43.txt',\n",
       " 'rss_crawl2019-09-23 06-01-25.txt',\n",
       " 'rss_crawl2019-09-23 08-21-36.txt',\n",
       " 'rss_crawl2019-09-23 14-31-29.txt',\n",
       " 'rss_crawl2019-09-23 15-21-38.txt',\n",
       " 'rss_crawl2019-09-21 10-51-30.txt',\n",
       " 'rss_crawl2019-09-25 07-21-15.txt',\n",
       " 'rss_crawl2019-09-24 16-51-19.txt',\n",
       " 'rss_crawl2019-09-22 15-11-25.txt',\n",
       " 'rss_crawl2019-09-24 07-41-32.txt',\n",
       " 'rss_crawl2019-09-25 06-51-33.txt',\n",
       " 'rss_crawl2019-09-21 18-41-09.txt',\n",
       " 'rss_crawl2019-09-24 15-11-36.txt',\n",
       " 'rss_crawl2019-09-24 19-01-51.txt',\n",
       " 'rss_crawl2019-09-23 23-31-09.txt',\n",
       " 'rss_crawl2019-09-22 14-41-20.txt',\n",
       " 'rss_crawl2019-09-24 12-21-20.txt',\n",
       " 'rss_crawl2019-09-21 11-31-22.txt',\n",
       " 'rss_crawl2019-09-21 11-51-37.txt',\n",
       " 'rss_crawl2019-09-22 08-41-08.txt',\n",
       " 'rss_crawl2019-09-25 15-12-35.txt',\n",
       " 'rss_crawl2019-09-21 16-01-13.txt',\n",
       " 'rss_crawl2019-09-25 15-01-48.txt',\n",
       " 'rss_crawl2019-09-24 02-21-49.txt',\n",
       " 'rss_crawl2019-09-23 03-41-26.txt',\n",
       " 'rss_crawl2019-09-23 14-21-21.txt',\n",
       " 'rss_crawl2019-09-22 18-31-10.txt',\n",
       " 'rss_crawl2019-09-25 19-11-37.txt',\n",
       " 'rss_crawl2019-09-23 09-41-17.txt',\n",
       " 'rss_crawl2019-09-24 14-41-47.txt',\n",
       " 'rss_crawl2019-09-22 06-21-47.txt',\n",
       " 'rss_crawl2019-09-25 14-12-23.txt',\n",
       " 'rss_crawl2019-09-25 06-31-22.txt',\n",
       " 'rss_crawl2019-09-23 11-41-39.txt',\n",
       " 'rss_crawl2019-09-22 16-11-12.txt',\n",
       " 'rss_crawl2019-09-25 17-02-41.txt',\n",
       " 'rss_crawl2019-09-23 09-51-27.txt',\n",
       " 'rss_crawl2019-09-21 08-31-12.txt',\n",
       " 'rss_crawl2019-09-22 20-11-17.txt',\n",
       " 'rss_crawl2019-09-21 12-01-45.txt',\n",
       " 'rss_crawl2019-09-23 17-41-50.txt',\n",
       " 'rss_crawl2019-09-25 13-52-10.txt',\n",
       " 'rss_crawl2019-09-26 01-01-59.txt',\n",
       " 'rss_crawl2019-09-24 07-11-09.txt',\n",
       " 'rss_crawl2019-09-23 09-21-40.txt',\n",
       " 'rss_crawl2019-09-22 15-31-53.txt']"
      ]
     },
     "execution_count": 136,
     "metadata": {},
     "output_type": "execute_result"
    }
   ],
   "source": [
    "files"
   ]
  },
  {
   "cell_type": "code",
   "execution_count": 239,
   "metadata": {
    "scrolled": true
   },
   "outputs": [],
   "source": [
    "time_st='20190923_0051'\n",
    "\n",
    "payload=log_new_run(time_st,'ART',time_st,time_st,{}, )\n"
   ]
  },
  {
   "cell_type": "code",
   "execution_count": 260,
   "metadata": {},
   "outputs": [
    {
     "data": {
      "text/plain": [
       "4"
      ]
     },
     "execution_count": 260,
     "metadata": {},
     "output_type": "execute_result"
    }
   ],
   "source": [
    "with open('./RSS_IDs/'+files[4]) as f:\n",
    "    art=json.load(f)\n",
    "len(art['key'])"
   ]
  },
  {
   "cell_type": "code",
   "execution_count": 262,
   "metadata": {},
   "outputs": [
    {
     "data": {
      "text/plain": [
       "'20190923_0051'"
      ]
     },
     "execution_count": 262,
     "metadata": {},
     "output_type": "execute_result"
    }
   ],
   "source": [
    "time_st"
   ]
  },
  {
   "cell_type": "code",
   "execution_count": 269,
   "metadata": {},
   "outputs": [
    {
     "data": {
      "text/plain": [
       "'Reuters'"
      ]
     },
     "execution_count": 269,
     "metadata": {},
     "output_type": "execute_result"
    }
   ],
   "source": [
    "art['key'][0]['source']"
   ]
  },
  {
   "cell_type": "code",
   "execution_count": 274,
   "metadata": {},
   "outputs": [
    {
     "data": {
      "text/plain": [
       "2169"
      ]
     },
     "execution_count": 274,
     "metadata": {},
     "output_type": "execute_result"
    }
   ],
   "source": [
    "len(art['key'][0]['url']['Content'])"
   ]
  },
  {
   "cell_type": "code",
   "execution_count": 280,
   "metadata": {},
   "outputs": [
    {
     "data": {
      "text/plain": [
       "{'BBC': 2, 'RT': 1}"
      ]
     },
     "execution_count": 280,
     "metadata": {},
     "output_type": "execute_result"
    }
   ],
   "source": [
    "\n",
    "srs=['RT','BBC','BBC']\n",
    "\n",
    "agg_srs(srs)"
   ]
  },
  {
   "cell_type": "code",
   "execution_count": 290,
   "metadata": {},
   "outputs": [
    {
     "data": {
      "text/plain": [
       "3"
      ]
     },
     "execution_count": 290,
     "metadata": {},
     "output_type": "execute_result"
    }
   ],
   "source": [
    "srs.count('BBC')"
   ]
  },
  {
   "cell_type": "code",
   "execution_count": 279,
   "metadata": {
    "collapsed": true
   },
   "outputs": [],
   "source": [
    "\n",
    "def agg_srs(srs):\n",
    "    srs_sum={}\n",
    "    for each in list(set(srs)):\n",
    "        srs_sum[each]=srs.count(each)\n",
    "    return srs_sum\n",
    "\n"
   ]
  },
  {
   "cell_type": "code",
   "execution_count": null,
   "metadata": {
    "collapsed": true
   },
   "outputs": [],
   "source": [
    "notes={'sources':agg_srs(srs),\n",
    "       'avg_len':tot_len/len(art['key']),\n",
    "       'nr_docs':len(art['key']),}"
   ]
  },
  {
   "cell_type": "code",
   "execution_count": 293,
   "metadata": {},
   "outputs": [
    {
     "data": {
      "text/plain": [
       "{'avg_len': 4167.0, 'nr_docs': 4, 'sources': {'BBC': 3, 'Reuters': 1}}"
      ]
     },
     "execution_count": 293,
     "metadata": {},
     "output_type": "execute_result"
    }
   ],
   "source": [
    "notes"
   ]
  },
  {
   "cell_type": "code",
   "execution_count": 265,
   "metadata": {
    "collapsed": true
   },
   "outputs": [],
   "source": [
    "'''for idx in range(len(art['key'])):\n",
    "    es.delete('cnd-raw',id=time_st+'d'+str(idx))'''"
   ]
  },
  {
   "cell_type": "code",
   "execution_count": 306,
   "metadata": {},
   "outputs": [
    {
     "name": "stdout",
     "output_type": "stream",
     "text": [
      "20190922_0601 {'sources': {'Reuters': 1}, 'avg_len': 3933, 'nr_docs': 1}\n",
      "20190926_1603 {'sources': {'Investgate': 12, 'BBC': 2, 'Reuters': 7}, 'avg_len': 2838, 'nr_docs': 21}\n",
      "20190921_0811 {'sources': {'BBC': 1, 'Reuters': 5}, 'avg_len': 2107, 'nr_docs': 6}\n"
     ]
    }
   ],
   "source": [
    "payload\n",
    "for file in files[:3]:\n",
    "    \n",
    "    st=file[9:25].replace(' ','_').replace('-','')\n",
    "    start_dt=str(datetime.datetime.now())\n",
    "    #start_dt=str(dt0)[:16].replace(' ','_').replace('-','').replace(':','')\n",
    "    \n",
    "    # INITIATE PARAMETERS FOR LOG\n",
    "    srs=[]\n",
    "    tot_len=0\n",
    "    \n",
    "    # READ FILE\n",
    "    with open('./RSS_IDs/'+file) as f:\n",
    "        art=json.load(f)\n",
    "    \n",
    "    if len(art['key'])>0:\n",
    "\n",
    "        # CREATE ARTICLE RECORDS IN ES\n",
    "        for idx in range(len(art['key'])):\n",
    "            es.index('news-articles',id=st+'d'+str(idx),body=art['key'][idx])\n",
    "            srs=srs+[art['key'][idx]['source']]\n",
    "            tot_len=tot_len+len(art['key'][idx]['url'].get('Content',''))\n",
    "\n",
    "        # CREATE NOTES\n",
    "        notes={'sources':agg_srs(srs),\n",
    "           'avg_len':int(tot_len/(len(art['key'])-srs.count('Investgate'))),\n",
    "           'nr_docs':len(art['key']),}\n",
    "\n",
    "        finish_dt=str(datetime.datetime.now())\n",
    "        #finish_dt=str(dt0)[:16].replace(' ','_').replace('-','').replace(':','')    \n",
    "\n",
    "        # LOG EVENTS\n",
    "        payload=log_new_run(st,'ART',start_dt,finish_dt,notes, )\n",
    "        es.index('news-log',id=st,body=payload)\n",
    "    print(st,notes)"
   ]
  },
  {
   "cell_type": "code",
   "execution_count": 301,
   "metadata": {},
   "outputs": [
    {
     "data": {
      "text/plain": [
       "{'ART_complete': '2019-09-27 08:18:20.767029',\n",
       " 'ART_note': '{\"sources\": {\"BBC\": 1, \"Reuters\": 5}, \"avg_len\": 2107.8333333333335, \"nr_docs\": 6}',\n",
       " 'ART_started': '2019-09-27 08:18:20.767029',\n",
       " 'history': ['ART'],\n",
       " 'run': '20190921_0811',\n",
       " 'run_date': '20190927',\n",
       " 'status': 'ART'}"
      ]
     },
     "execution_count": 301,
     "metadata": {},
     "output_type": "execute_result"
    }
   ],
   "source": [
    "log_new_run(st,'ART',str(dt0),str(dt0),notes, )"
   ]
  },
  {
   "cell_type": "code",
   "execution_count": 284,
   "metadata": {},
   "outputs": [
    {
     "data": {
      "text/plain": [
       "{'acknowledged': True}"
      ]
     },
     "execution_count": 284,
     "metadata": {},
     "output_type": "execute_result"
    }
   ],
   "source": [
    "es.indices.delete('cnd_raw')"
   ]
  },
  {
   "cell_type": "code",
   "execution_count": 189,
   "metadata": {
    "collapsed": true
   },
   "outputs": [],
   "source": [
    "es_link='https://search-news-collection-zixpnvstipu7xweou5ixy4tpse.us-east-2.es.amazonaws.com/'"
   ]
  },
  {
   "cell_type": "code",
   "execution_count": 221,
   "metadata": {},
   "outputs": [],
   "source": [
    "from elasticsearch import Elasticsearch, helpers"
   ]
  },
  {
   "cell_type": "code",
   "execution_count": 222,
   "metadata": {
    "collapsed": true
   },
   "outputs": [],
   "source": [
    "es=Elasticsearch(es_link)"
   ]
  },
  {
   "cell_type": "code",
   "execution_count": 313,
   "metadata": {},
   "outputs": [
    {
     "data": {
      "text/plain": [
       "{'hits': {'hits': [{'_source': {'run': '20190921_0811'}},\n",
       "   {'_source': {'run': '20190922_0601'}},\n",
       "   {'_source': {'run': '20190926_1603'}}]}}"
      ]
     },
     "execution_count": 313,
     "metadata": {},
     "output_type": "execute_result"
    }
   ],
   "source": [
    "es.search('news-log',{'query':{'match':{'run_date': '20190927'}}}, filter_path='hits.hits._source.run')"
   ]
  },
  {
   "cell_type": "code",
   "execution_count": 309,
   "metadata": {},
   "outputs": [
    {
     "ename": "TypeError",
     "evalue": "search() got an unexpected keyword argument 'filter'",
     "output_type": "error",
     "traceback": [
      "\u001b[0;31m---------------------------------------------------------------------------\u001b[0m",
      "\u001b[0;31mTypeError\u001b[0m                                 Traceback (most recent call last)",
      "\u001b[0;32m<ipython-input-309-55bc2c7512db>\u001b[0m in \u001b[0;36m<module>\u001b[0;34m()\u001b[0m\n\u001b[0;32m----> 1\u001b[0;31m \u001b[0mes\u001b[0m\u001b[0;34m.\u001b[0m\u001b[0msearch\u001b[0m\u001b[0;34m(\u001b[0m\u001b[0;34m'news-log'\u001b[0m\u001b[0;34m,\u001b[0m\u001b[0;34m{\u001b[0m\u001b[0;34m'query'\u001b[0m\u001b[0;34m:\u001b[0m\u001b[0;34m{\u001b[0m\u001b[0;34m'match'\u001b[0m\u001b[0;34m:\u001b[0m\u001b[0;34m{\u001b[0m\u001b[0;34m'status'\u001b[0m\u001b[0;34m:\u001b[0m \u001b[0;34m'ART'\u001b[0m\u001b[0;34m}\u001b[0m\u001b[0;34m}\u001b[0m\u001b[0;34m}\u001b[0m\u001b[0;34m,\u001b[0m\u001b[0mfilter\u001b[0m\u001b[0;34m=\u001b[0m\u001b[0;34m'hits'\u001b[0m\u001b[0;34m)\u001b[0m\u001b[0;34m\u001b[0m\u001b[0;34m\u001b[0m\u001b[0m\n\u001b[0m",
      "\u001b[0;32m/Users/MD/anaconda/lib/python3.6/site-packages/elasticsearch/client/utils.py\u001b[0m in \u001b[0;36m_wrapped\u001b[0;34m(*args, **kwargs)\u001b[0m\n\u001b[1;32m     82\u001b[0m                 \u001b[0;32mif\u001b[0m \u001b[0mp\u001b[0m \u001b[0;32min\u001b[0m \u001b[0mkwargs\u001b[0m\u001b[0;34m:\u001b[0m\u001b[0;34m\u001b[0m\u001b[0;34m\u001b[0m\u001b[0m\n\u001b[1;32m     83\u001b[0m                     \u001b[0mparams\u001b[0m\u001b[0;34m[\u001b[0m\u001b[0mp\u001b[0m\u001b[0;34m]\u001b[0m \u001b[0;34m=\u001b[0m \u001b[0mkwargs\u001b[0m\u001b[0;34m.\u001b[0m\u001b[0mpop\u001b[0m\u001b[0;34m(\u001b[0m\u001b[0mp\u001b[0m\u001b[0;34m)\u001b[0m\u001b[0;34m\u001b[0m\u001b[0;34m\u001b[0m\u001b[0m\n\u001b[0;32m---> 84\u001b[0;31m             \u001b[0;32mreturn\u001b[0m \u001b[0mfunc\u001b[0m\u001b[0;34m(\u001b[0m\u001b[0;34m*\u001b[0m\u001b[0margs\u001b[0m\u001b[0;34m,\u001b[0m \u001b[0mparams\u001b[0m\u001b[0;34m=\u001b[0m\u001b[0mparams\u001b[0m\u001b[0;34m,\u001b[0m \u001b[0;34m**\u001b[0m\u001b[0mkwargs\u001b[0m\u001b[0;34m)\u001b[0m\u001b[0;34m\u001b[0m\u001b[0;34m\u001b[0m\u001b[0m\n\u001b[0m\u001b[1;32m     85\u001b[0m \u001b[0;34m\u001b[0m\u001b[0m\n\u001b[1;32m     86\u001b[0m         \u001b[0;32mreturn\u001b[0m \u001b[0m_wrapped\u001b[0m\u001b[0;34m\u001b[0m\u001b[0;34m\u001b[0m\u001b[0m\n",
      "\u001b[0;31mTypeError\u001b[0m: search() got an unexpected keyword argument 'filter'"
     ]
    }
   ],
   "source": [
    "es.search('news-log',{'query':{'match':{'status': 'ART'}}})"
   ]
  },
  {
   "cell_type": "code",
   "execution_count": 304,
   "metadata": {},
   "outputs": [],
   "source": [
    "def log_new_run(run_name,step,started,finished,stats):\n",
    "    \n",
    "    payload={'run':run_name,\n",
    "             'status':step,\n",
    "             'run_date':started.replace('-','')[:8],\n",
    "             'history':[step],\n",
    "             step+'_note':json.dumps(stats),\n",
    "             step+'_started':started,\n",
    "             step+'_complete':finished, \n",
    "             \n",
    "            }\n",
    "    return payload\n",
    "\n",
    "\n",
    "def find_open_jobs(date,prev_step,max_jobs=3):\n",
    "    # Search for any items in the collection with status prev_step\n",
    "    \n",
    "    # Return those as a list of jsons\n",
    "    1\n",
    "    \n",
    "def update_to_running():\n",
    "    1\n",
    "def update_to_done():\n",
    "    1\n",
    "    \n",
    "    \n"
   ]
  },
  {
   "cell_type": "code",
   "execution_count": 148,
   "metadata": {},
   "outputs": [
    {
     "data": {
      "text/plain": [
       "1569533843050.334"
      ]
     },
     "execution_count": 148,
     "metadata": {},
     "output_type": "execute_result"
    }
   ],
   "source": [
    "import datetime\n",
    "dt0=datetime.datetime.now()\n",
    "datetime.datetime.timestamp(dt0)*1000"
   ]
  },
  {
   "cell_type": "code",
   "execution_count": 266,
   "metadata": {},
   "outputs": [
    {
     "data": {
      "text/plain": [
       "'20190927_0747'"
      ]
     },
     "execution_count": 266,
     "metadata": {},
     "output_type": "execute_result"
    }
   ],
   "source": [
    "dt0=datetime.datetime.now()\n",
    "str(dt0)[:16].replace(' ','_').replace('-','').replace(':','')"
   ]
  },
  {
   "cell_type": "code",
   "execution_count": 218,
   "metadata": {
    "collapsed": true
   },
   "outputs": [],
   "source": [
    "import requests\n",
    "\n",
    "def create_doc(url, payload):\n",
    "    session = requests.Session()\n",
    "    session.headers={'Content=Type':'application/json'}\n",
    "    query=json.dumps(payload)\n",
    "    \n",
    "    response=session.put(url,data=query)\n",
    "    return response\n",
    "\n",
    "def bulk_load(es_cnd,collection,doc_nm,payload_list):\n",
    "    for idx in range(len(payload_list)):\n",
    "        doc_nr=str(idx)\n",
    "        doc_id=doc_name+'d'+doc_nr\n",
    "        response=doc_load(es_cnd,collection,doc_id,payload_list[idx])\n",
    "        \n",
    "        res_out=json.loads(response.content)\n",
    "\n",
    "        \n",
    "def doc_load(es_cnd,collection,doc_id,payload):\n",
    "    url=es_cnd+collection+'/_doc/'+doc_id\n",
    "        \n",
    "    #payload=json.load(payload)\n",
    "    response=create_doc(url,payload)\n",
    "    return response\n",
    "\n",
    "#url=cnd+collection+'/_doc'+doc_id\n",
    "#payload=json.loads(payload_list[idx])\n",
    "#response=create_doc(url,payload)"
   ]
  }
 ],
 "metadata": {
  "kernelspec": {
   "display_name": "Python 3",
   "language": "python",
   "name": "python3"
  },
  "language_info": {
   "codemirror_mode": {
    "name": "ipython",
    "version": 3
   },
   "file_extension": ".py",
   "mimetype": "text/x-python",
   "name": "python",
   "nbconvert_exporter": "python",
   "pygments_lexer": "ipython3",
   "version": "3.6.8"
  }
 },
 "nbformat": 4,
 "nbformat_minor": 2
}
