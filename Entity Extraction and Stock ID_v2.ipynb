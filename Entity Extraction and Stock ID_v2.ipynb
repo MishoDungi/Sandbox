{
 "cells": [
  {
   "cell_type": "code",
   "execution_count": 4,
   "metadata": {
    "collapsed": true
   },
   "outputs": [],
   "source": [
    "from google.cloud import language"
   ]
  },
  {
   "cell_type": "code",
   "execution_count": 8,
   "metadata": {},
   "outputs": [],
   "source": [
    "import pandas as pd"
   ]
  },
  {
   "cell_type": "code",
   "execution_count": 5,
   "metadata": {},
   "outputs": [],
   "source": [
    "%load_ext autoreload"
   ]
  },
  {
   "cell_type": "code",
   "execution_count": 6,
   "metadata": {},
   "outputs": [],
   "source": [
    "%autoreload 2"
   ]
  },
  {
   "cell_type": "code",
   "execution_count": 15,
   "metadata": {
    "collapsed": true
   },
   "outputs": [],
   "source": [
    "from entity_extract import * "
   ]
  },
  {
   "cell_type": "code",
   "execution_count": 224,
   "metadata": {
    "collapsed": true
   },
   "outputs": [],
   "source": [
    "#Whether to send all logs to the cloud instead of a local file.\n",
    "LOGS_TO_CLOUD = False"
   ]
  },
  {
   "cell_type": "code",
   "execution_count": 10,
   "metadata": {
    "scrolled": true
   },
   "outputs": [
    {
     "data": {
      "text/html": [
       "<div>\n",
       "<style scoped>\n",
       "    .dataframe tbody tr th:only-of-type {\n",
       "        vertical-align: middle;\n",
       "    }\n",
       "\n",
       "    .dataframe tbody tr th {\n",
       "        vertical-align: top;\n",
       "    }\n",
       "\n",
       "    .dataframe thead th {\n",
       "        text-align: right;\n",
       "    }\n",
       "</style>\n",
       "<table border=\"1\" class=\"dataframe\">\n",
       "  <thead>\n",
       "    <tr style=\"text-align: right;\">\n",
       "      <th></th>\n",
       "      <th>File</th>\n",
       "      <th>Title</th>\n",
       "      <th>Time</th>\n",
       "      <th>Author</th>\n",
       "      <th>Description</th>\n",
       "      <th>Content</th>\n",
       "      <th>Snippet</th>\n",
       "      <th>Tags</th>\n",
       "      <th>Links</th>\n",
       "    </tr>\n",
       "  </thead>\n",
       "  <tbody>\n",
       "    <tr>\n",
       "      <th>0</th>\n",
       "      <td>ee070568-b74f-11e4-981d-00144feab7de.html</td>\n",
       "      <td>Japan wages: Manufacturing consent - FT.com</td>\n",
       "      <td>February 18, 2015 7:24 pm</td>\n",
       "      <td>Robin Harding and Kana Inagaki</td>\n",
       "      <td>Shunto, the annual “spring offensive” by Japan...</td>\n",
       "      <td>©ReutersShunto, the annual “spring offensive” ...</td>\n",
       "      <td>Shunto, the annual “spring offensive” by Japan...</td>\n",
       "      <td>Japan Economy</td>\n",
       "      <td>NaN</td>\n",
       "    </tr>\n",
       "    <tr>\n",
       "      <th>1</th>\n",
       "      <td>47bbc62c-950c-11e4-b32c-00144feabdc0.html</td>\n",
       "      <td>Permanent capital is not exactly new in Englan...</td>\n",
       "      <td>January 6, 2015 10:51 pm</td>\n",
       "      <td>NaN</td>\n",
       "      <td>Sir, So the latest idea that the US financial ...</td>\n",
       "      <td>Sir, So the latest idea that the US financial ...</td>\n",
       "      <td>Sir, So the latest idea that the US financial ...</td>\n",
       "      <td>NaN</td>\n",
       "      <td>[['permanent capital', 'http://www.ft.com/cms/...</td>\n",
       "    </tr>\n",
       "    <tr>\n",
       "      <th>2</th>\n",
       "      <td>d97bbc96-08f9-11e5-881f-00144feabdc0.html</td>\n",
       "      <td>Charles Kennedy, former Liberal Democrat leade...</td>\n",
       "      <td>June 2, 2015 5:56 pm</td>\n",
       "      <td>George Parker</td>\n",
       "      <td>Charles Kennedy was one of the most talented a...</td>\n",
       "      <td>©AFPCharles Kennedy unveils an election campai...</td>\n",
       "      <td>Charles Kennedy was one of the most talented a...</td>\n",
       "      <td>Liberal Democrats UK</td>\n",
       "      <td>[['©AFP', 'http://www.ft.com/servicestools/ter...</td>\n",
       "    </tr>\n",
       "  </tbody>\n",
       "</table>\n",
       "</div>"
      ],
      "text/plain": [
       "                                        File  \\\n",
       "0  ee070568-b74f-11e4-981d-00144feab7de.html   \n",
       "1  47bbc62c-950c-11e4-b32c-00144feabdc0.html   \n",
       "2  d97bbc96-08f9-11e5-881f-00144feabdc0.html   \n",
       "\n",
       "                                               Title  \\\n",
       "0        Japan wages: Manufacturing consent - FT.com   \n",
       "1  Permanent capital is not exactly new in Englan...   \n",
       "2  Charles Kennedy, former Liberal Democrat leade...   \n",
       "\n",
       "                        Time                          Author  \\\n",
       "0  February 18, 2015 7:24 pm  Robin Harding and Kana Inagaki   \n",
       "1   January 6, 2015 10:51 pm                             NaN   \n",
       "2       June 2, 2015 5:56 pm                   George Parker   \n",
       "\n",
       "                                         Description  \\\n",
       "0  Shunto, the annual “spring offensive” by Japan...   \n",
       "1  Sir, So the latest idea that the US financial ...   \n",
       "2  Charles Kennedy was one of the most talented a...   \n",
       "\n",
       "                                             Content  \\\n",
       "0  ©ReutersShunto, the annual “spring offensive” ...   \n",
       "1  Sir, So the latest idea that the US financial ...   \n",
       "2  ©AFPCharles Kennedy unveils an election campai...   \n",
       "\n",
       "                                             Snippet                  Tags  \\\n",
       "0  Shunto, the annual “spring offensive” by Japan...         Japan Economy   \n",
       "1  Sir, So the latest idea that the US financial ...                   NaN   \n",
       "2  Charles Kennedy was one of the most talented a...  Liberal Democrats UK   \n",
       "\n",
       "                                               Links  \n",
       "0                                                NaN  \n",
       "1  [['permanent capital', 'http://www.ft.com/cms/...  \n",
       "2  [['©AFP', 'http://www.ft.com/servicestools/ter...  "
      ]
     },
     "execution_count": 10,
     "metadata": {},
     "output_type": "execute_result"
    }
   ],
   "source": [
    "df = pd.read_csv('FT_2015_parsed.csv',index_col=0)\n",
    "\n",
    "df.head(3)"
   ]
  },
  {
   "cell_type": "code",
   "execution_count": 37,
   "metadata": {
    "collapsed": true
   },
   "outputs": [],
   "source": [
    "text = ('Whether I choose him or not for \"State\"- Rex Tillerson, ' \n",
    "'the Chairman & CEO of ExxonMobil, is a world class player and dealmaker. Stay tuned!')"
   ]
  },
  {
   "cell_type": "code",
   "execution_count": 51,
   "metadata": {},
   "outputs": [
    {
     "data": {
      "text/plain": [
       "'©BloombergBT’s £12.5bn acquisition of EE, Britain’s largest mobile network, was a deal forged in Bonn, agreed in Paris and delivered in London — and the results will be felt even more widely as they set the stage for a reshuffle of power in the European telecoms sector.\\nThe acquisition of EE from owners Deutsche Telekom and Orange will give BT a significant foothold in the UK mobile market, with about 24m customers who can be sold products such as broadband and television services in bundled offers. \\nMoreOn this storyLombard Rexam / GCA and Tesco / BT and EE BT seals £12.5bn deal to buy EE Mergers & acquisitions news headlines EE to kill Orange brand before BT deal Analysts and investors cheer BT’s EE bidOn this topic Sky calls for probe of BT broadband BT says EE deal makes ‘digital champion’ BT seals deal with ‘Mad Men’ network AMC BT under fire over high-speed lines costIN Telecoms Xiaomi targets Brazil for phone launch Orange finds way to quit Israeli partner EU net neutrality to allow fast streaming BT under pressure in broadband raceThe deal will also allow the company to take another step towards moving all of its offerings on to a single, internet-based platform. This means that it will eventually be able to provide services from calls and texts to TV and broadband across the same system.\\nThe combination with EE is expected to create savings of as much as £4.6bn after integration costs in areas such as sales, marketing, administration, and cross- and up-selling integrated products combining mobile, fixed-network services and TV.\\nAnalysts at Enders still harbour doubts about whether there is appetite among British consumers for “quad play” offers, and the prospect of cross-selling fixed broadband and mobile. But, they add, BT will benefit from merging the largest fixed and mobile operators under a single brand and network.\\nAlso important, according to several of those involved in the deal, is the potential for closer co-operation with Deutsche Telekom. The German group wanted to retain a sizeable interest in the UK and will have a 12 per cent stake in the combined group. Tim Höttges, its chief executive, will also take a seat on the BT board. \\nBy contrast, it was clear from the start that Orange wanted more cash from the sale.\\nSome have described Deutsche Telekom’s investment as an option on BT’s future. They see signals from the German group’s management that the European telecoms sector will eventually consolidate into a few, large groups. Many expect one day to see a merger of the two businesses — albeit after an 18-month period during which Deutsche Telekom will not be able to buy or sell shares.\\nAnalysts at Moody’s described this as a “strategic” stake. They said it would make Deutsche Telekom part of “a stronger group in the UK with greater scale, scope and more potential to take advantage of becoming an integrated player in a market in which the rest of the operators will find it more difficult to offer competitive converged offers”. \\nAgainst this backdrop, it is not surprising that the German group took the lead initially in negotiations on EE, according to several people familiar with the process.\\nLombard: Ride a white swan\\nConsumers have yet to embrace quadplay — mobile and fixed telephony, TV and internet from a single provider. But investors are convinced it will be a winner, judging from their enthusiastic response to BT Group’s £12.5bn purchase of mobile operator EE, writes Jonathan Guthrie.\\nContinue reading\\n\\n\\n“Deutsche Telekom is not selling EE,” said one person close to the talks. “It is buying into BT, a now much bigger group set for future growth in a converged market.”\\nThe German group has made little secret of its view about convergence of fixed and mobile broadband — and the sale of EE to BT is seen by one person close to the group as a way to help create “a British telecoms champion”. \\nMeanwhile, Brussels regulators are keen to foster cross-border alliances and mergers in order to create regionally strong groups able to compete with the size of telecoms rivals in the US and Asia, as well as technology groups such as Google. \\nStill, there will be no rapid moves, given that there is a three-year standstill agreement on Deutsche Telekom raising its share in BT to more than 15 per cent – a move that Gavin Patterson, chief executive of BT, said would avoid other shareholders becoming “perturbed”. He described the German group as a long-term investor following a deal that strengthened the “vision of what BT looks like in the future”. \\nNo decisions were revealed about what will happen to the management of EE, led by chief executive Olaf Swantee, who told the Financial Times that he would continue to oversee the mobile group during integration. He added that achieving regulatory approval would take at least until October and potentially into 2016, and it was too early to talk about the future structure, staffing and pricing strategy. \\nLex: BT and EE\\nTime to get down to the technical nitty gritty of the deal\\nContinue reading\\n\\n\\nMr Patterson said that he expected the merger to be regulated in the UK, and did not foresee any obstacles to the deal.\\nThe origins of the acquisition were opportunistic. Executives close to the process said it had become evident last summer that a wholesale relationship allowing BT to use EE’s network was not going to be easy. \\nA Deutsche Telekom team led by Mr Höttges talked with Mr Patterson about the potential sale of EE. \\nAs talk coalesced around a deal, Orange’s team — headed by European head Gervais Pellissier and finance chief Ramon Fernandez — became involved to work on the terms. \\nThe process became more complicated during the autumn when Telefónica joined the bidding. The Spanish group had found out about the talks, prompting it to offer its UK operations as management worried about being left behind in a consolidating market. \\nParallel negotiations led by José María Álvarez-Pallete López, Telefónica’s chief operating officer, began. \\nPodcast\\nBattle heats up for Premier League bid\\n\\nOn Friday, BT and Sky will start the corporate equivalent of a gunfight as they bid for Premier League football rights, which is expected to generate £3.5bn-£5bn. We look into the possible scenarios for the two companies\\n\\nBT was already heading towards a deal for EE after a board meeting in early December. César Alierta, Telefónica’s chief executive, flew to London on in a last-ditch attempt to head off the rivals’ deal. But it failed to do much more than cause some antagonism on both sides, according to people familiar with the discussions. \\nBoard meetings in Germany and France gave a final blessing, which led BT to sign-off on the deal. The deal was announced on December 15.\\nWeeks later, Telefónica would end up doing a deal with Hong Kong’s Hutchison Whampoa, owner of the Three network, to merge their British operations instead.\\nNow that due diligence has been completed — and raised no concerns, according to those involved — the groups will be able to concentrate on securing regulatory approval. \\nOnce completed, the combined BT-EE will create a stronger British telecoms group able to compete better with global rivals — and with a German shareholder keen to work together while keeping a close eye on the long term. Deutsche Bank'"
      ]
     },
     "execution_count": 51,
     "metadata": {},
     "output_type": "execute_result"
    }
   ],
   "source": [
    "text=df.loc[105,'Content']\n",
    "text=text+' Deutsche Bank'\n",
    "text"
   ]
  },
  {
   "cell_type": "code",
   "execution_count": 44,
   "metadata": {},
   "outputs": [
    {
     "data": {
      "text/html": [
       "<div>\n",
       "<style scoped>\n",
       "    .dataframe tbody tr th:only-of-type {\n",
       "        vertical-align: middle;\n",
       "    }\n",
       "\n",
       "    .dataframe tbody tr th {\n",
       "        vertical-align: top;\n",
       "    }\n",
       "\n",
       "    .dataframe thead th {\n",
       "        text-align: right;\n",
       "    }\n",
       "</style>\n",
       "<table border=\"1\" class=\"dataframe\">\n",
       "  <thead>\n",
       "    <tr style=\"text-align: right;\">\n",
       "      <th></th>\n",
       "      <th>Title</th>\n",
       "      <th>Description</th>\n",
       "      <th>Tags</th>\n",
       "    </tr>\n",
       "  </thead>\n",
       "  <tbody>\n",
       "    <tr>\n",
       "      <th>100</th>\n",
       "      <td>Iron ore bounce likely to be shortlived - FT.com</td>\n",
       "      <td>Few in the iron ore industry will remember 201...</td>\n",
       "      <td>Industrial metals</td>\n",
       "    </tr>\n",
       "    <tr>\n",
       "      <th>101</th>\n",
       "      <td>A racket doesn’t look after itself — running o...</td>\n",
       "      <td>Sir, Martin Wolf’s article “Britain’s self-per...</td>\n",
       "      <td>NaN</td>\n",
       "    </tr>\n",
       "    <tr>\n",
       "      <th>102</th>\n",
       "      <td>Metro Bank strikes deal to lend through P2P si...</td>\n",
       "      <td>Metro Bank has struck a deal to become the fir...</td>\n",
       "      <td>UK banks</td>\n",
       "    </tr>\n",
       "    <tr>\n",
       "      <th>103</th>\n",
       "      <td>More theatre reviews and previews - FT.com</td>\n",
       "      <td>A View From the Bridge, Wyndham’s Theatre, Lon...</td>\n",
       "      <td>NaN</td>\n",
       "    </tr>\n",
       "    <tr>\n",
       "      <th>104</th>\n",
       "      <td>Guy Laliberté, Cirque du Soleil co-founder - F...</td>\n",
       "      <td>Circus impresarios have a reputation as huckst...</td>\n",
       "      <td>NaN</td>\n",
       "    </tr>\n",
       "    <tr>\n",
       "      <th>105</th>\n",
       "      <td>BT-EE deal sets stage for Europe telecoms resh...</td>\n",
       "      <td>BT’s £12.5bn acquisition of EE, Britain’s larg...</td>\n",
       "      <td>Mergers &amp; Acquisitions</td>\n",
       "    </tr>\n",
       "    <tr>\n",
       "      <th>106</th>\n",
       "      <td>Venezuela’s Maduro announces reform push to co...</td>\n",
       "      <td>Venezuela’s socialist president Nicolás Maduro...</td>\n",
       "      <td>Oil</td>\n",
       "    </tr>\n",
       "    <tr>\n",
       "      <th>107</th>\n",
       "      <td>Evraz announces $1.3bn loss and share buy-back...</td>\n",
       "      <td>Shares in Evraz, the steelmaker in which Roman...</td>\n",
       "      <td>Russia Business &amp; Finance</td>\n",
       "    </tr>\n",
       "    <tr>\n",
       "      <th>108</th>\n",
       "      <td>Asos appoints Helen Ashton as finance director...</td>\n",
       "      <td>Asos has raided the ranks of a UK debt managem...</td>\n",
       "      <td>United Kingdom</td>\n",
       "    </tr>\n",
       "    <tr>\n",
       "      <th>109</th>\n",
       "      <td>Small-cap Week, February 21 - FT.com</td>\n",
       "      <td>Hard-hit resources sectors provided most of th...</td>\n",
       "      <td>NaN</td>\n",
       "    </tr>\n",
       "    <tr>\n",
       "      <th>110</th>\n",
       "      <td>Francis Bacon: at home with history - FT.com</td>\n",
       "      <td>Bacon sandwiched Rembrandt, Velázquez, Michela...</td>\n",
       "      <td>NaN</td>\n",
       "    </tr>\n",
       "  </tbody>\n",
       "</table>\n",
       "</div>"
      ],
      "text/plain": [
       "                                                 Title  \\\n",
       "100   Iron ore bounce likely to be shortlived - FT.com   \n",
       "101  A racket doesn’t look after itself — running o...   \n",
       "102  Metro Bank strikes deal to lend through P2P si...   \n",
       "103         More theatre reviews and previews - FT.com   \n",
       "104  Guy Laliberté, Cirque du Soleil co-founder - F...   \n",
       "105  BT-EE deal sets stage for Europe telecoms resh...   \n",
       "106  Venezuela’s Maduro announces reform push to co...   \n",
       "107  Evraz announces $1.3bn loss and share buy-back...   \n",
       "108  Asos appoints Helen Ashton as finance director...   \n",
       "109               Small-cap Week, February 21 - FT.com   \n",
       "110       Francis Bacon: at home with history - FT.com   \n",
       "\n",
       "                                           Description  \\\n",
       "100  Few in the iron ore industry will remember 201...   \n",
       "101  Sir, Martin Wolf’s article “Britain’s self-per...   \n",
       "102  Metro Bank has struck a deal to become the fir...   \n",
       "103  A View From the Bridge, Wyndham’s Theatre, Lon...   \n",
       "104  Circus impresarios have a reputation as huckst...   \n",
       "105  BT’s £12.5bn acquisition of EE, Britain’s larg...   \n",
       "106  Venezuela’s socialist president Nicolás Maduro...   \n",
       "107  Shares in Evraz, the steelmaker in which Roman...   \n",
       "108  Asos has raided the ranks of a UK debt managem...   \n",
       "109  Hard-hit resources sectors provided most of th...   \n",
       "110  Bacon sandwiched Rembrandt, Velázquez, Michela...   \n",
       "\n",
       "                          Tags  \n",
       "100          Industrial metals  \n",
       "101                        NaN  \n",
       "102                   UK banks  \n",
       "103                        NaN  \n",
       "104                        NaN  \n",
       "105     Mergers & Acquisitions  \n",
       "106                        Oil  \n",
       "107  Russia Business & Finance  \n",
       "108             United Kingdom  \n",
       "109                        NaN  \n",
       "110                        NaN  "
      ]
     },
     "execution_count": 44,
     "metadata": {},
     "output_type": "execute_result"
    }
   ],
   "source": [
    "ii=50\n",
    "\n",
    "df.loc[50+ii:60+ii,['Title','Description','Tags']]"
   ]
  },
  {
   "cell_type": "code",
   "execution_count": 31,
   "metadata": {},
   "outputs": [
    {
     "data": {
      "text/plain": [
       "'Edwina Dunn and Clive Humby, the couple who helped to create the Tesco Clubcard, are considering involvement in a bid for Dunnhumby, the data analysis company they founded 30 years ago. The husband-and-wife team, who made millions from progressivelyDeutsche Bank'"
      ]
     },
     "execution_count": 31,
     "metadata": {},
     "output_type": "execute_result"
    }
   ],
   "source": []
  },
  {
   "cell_type": "code",
   "execution_count": 52,
   "metadata": {
    "collapsed": true
   },
   "outputs": [],
   "source": [
    "entities = detect_entities(text)\n",
    "companies = collect_entities(entities)"
   ]
  },
  {
   "cell_type": "code",
   "execution_count": 56,
   "metadata": {},
   "outputs": [
    {
     "data": {
      "text/plain": [
       "'/m/01g_3'"
      ]
     },
     "execution_count": 56,
     "metadata": {},
     "output_type": "execute_result"
    }
   ],
   "source": [
    "entities[0].metadata['mid']"
   ]
  },
  {
   "cell_type": "code",
   "execution_count": 61,
   "metadata": {
    "scrolled": true
   },
   "outputs": [
    {
     "data": {
      "text/plain": [
       "273"
      ]
     },
     "execution_count": 61,
     "metadata": {},
     "output_type": "execute_result"
    }
   ],
   "source": [
    "len([(entity.name, len(entity.mentions)) for entity in entities])"
   ]
  },
  {
   "cell_type": "code",
   "execution_count": 53,
   "metadata": {},
   "outputs": [
    {
     "data": {
      "text/plain": [
       "[{'exchange': 'New York Stock Exchange', 'name': 'BT Group', 'ticker': 'BT'},\n",
       " {'exchange': 'NASDAQ', 'name': 'EE', 'root': 'Orange', 'ticker': 'ORAN'},\n",
       " {'exchange': 'New York Stock Exchange',\n",
       "  'name': 'Deutsche Telekom',\n",
       "  'root': 'BlackRock',\n",
       "  'ticker': 'BLK'},\n",
       " {'exchange': 'New York Stock Exchange',\n",
       "  'name': 'Deutsche Telekom',\n",
       "  'root': 'PNC Financial Services',\n",
       "  'ticker': 'PNC'},\n",
       " {'exchange': 'New York Stock Exchange',\n",
       "  'name': 'Tesco',\n",
       "  'root': 'Deutsche Bank',\n",
       "  'ticker': 'DB'},\n",
       " {'exchange': 'New York Stock Exchange',\n",
       "  'name': \"Moody's Corporation\",\n",
       "  'ticker': 'MCO'},\n",
       " {'exchange': 'New York Stock Exchange',\n",
       "  'name': \"Moody's Corporation\",\n",
       "  'root': 'Berkshire Hathaway',\n",
       "  'ticker': 'BRK.A'},\n",
       " {'exchange': 'New York Stock Exchange',\n",
       "  'name': \"Moody's Corporation\",\n",
       "  'root': 'Berkshire Hathaway',\n",
       "  'ticker': 'BRK.B'},\n",
       " {'exchange': 'NASDAQ', 'name': 'Google', 'ticker': 'GOOG'},\n",
       " {'exchange': 'NASDAQ', 'name': 'Google', 'ticker': 'GOOGL'}]"
      ]
     },
     "execution_count": 53,
     "metadata": {},
     "output_type": "execute_result"
    }
   ],
   "source": [
    "companies"
   ]
  },
  {
   "cell_type": "code",
   "execution_count": 21,
   "metadata": {},
   "outputs": [
    {
     "ename": "TypeError",
     "evalue": "the JSON object must be str, bytes or bytearray, not 'Entity'",
     "output_type": "error",
     "traceback": [
      "\u001b[0;31m---------------------------------------------------------------------------\u001b[0m",
      "\u001b[0;31mTypeError\u001b[0m                                 Traceback (most recent call last)",
      "\u001b[0;32m<ipython-input-21-67c608f573bb>\u001b[0m in \u001b[0;36m<module>\u001b[0;34m()\u001b[0m\n\u001b[1;32m      1\u001b[0m \u001b[0;32mimport\u001b[0m \u001b[0mjson\u001b[0m\u001b[0;34m\u001b[0m\u001b[0;34m\u001b[0m\u001b[0m\n\u001b[1;32m      2\u001b[0m \u001b[0;34m\u001b[0m\u001b[0m\n\u001b[0;32m----> 3\u001b[0;31m \u001b[0mjson\u001b[0m\u001b[0;34m.\u001b[0m\u001b[0mloads\u001b[0m\u001b[0;34m(\u001b[0m\u001b[0mentities\u001b[0m\u001b[0;34m[\u001b[0m\u001b[0;36m0\u001b[0m\u001b[0;34m]\u001b[0m\u001b[0;34m)\u001b[0m\u001b[0;34m\u001b[0m\u001b[0;34m\u001b[0m\u001b[0m\n\u001b[0m",
      "\u001b[0;32m/Users/MD/anaconda/lib/python3.6/json/__init__.py\u001b[0m in \u001b[0;36mloads\u001b[0;34m(s, encoding, cls, object_hook, parse_float, parse_int, parse_constant, object_pairs_hook, **kw)\u001b[0m\n\u001b[1;32m    346\u001b[0m         \u001b[0;32mif\u001b[0m \u001b[0;32mnot\u001b[0m \u001b[0misinstance\u001b[0m\u001b[0;34m(\u001b[0m\u001b[0ms\u001b[0m\u001b[0;34m,\u001b[0m \u001b[0;34m(\u001b[0m\u001b[0mbytes\u001b[0m\u001b[0;34m,\u001b[0m \u001b[0mbytearray\u001b[0m\u001b[0;34m)\u001b[0m\u001b[0;34m)\u001b[0m\u001b[0;34m:\u001b[0m\u001b[0;34m\u001b[0m\u001b[0;34m\u001b[0m\u001b[0m\n\u001b[1;32m    347\u001b[0m             raise TypeError('the JSON object must be str, bytes or bytearray, '\n\u001b[0;32m--> 348\u001b[0;31m                             'not {!r}'.format(s.__class__.__name__))\n\u001b[0m\u001b[1;32m    349\u001b[0m         \u001b[0ms\u001b[0m \u001b[0;34m=\u001b[0m \u001b[0ms\u001b[0m\u001b[0;34m.\u001b[0m\u001b[0mdecode\u001b[0m\u001b[0;34m(\u001b[0m\u001b[0mdetect_encoding\u001b[0m\u001b[0;34m(\u001b[0m\u001b[0ms\u001b[0m\u001b[0;34m)\u001b[0m\u001b[0;34m,\u001b[0m \u001b[0;34m'surrogatepass'\u001b[0m\u001b[0;34m)\u001b[0m\u001b[0;34m\u001b[0m\u001b[0;34m\u001b[0m\u001b[0m\n\u001b[1;32m    350\u001b[0m \u001b[0;34m\u001b[0m\u001b[0m\n",
      "\u001b[0;31mTypeError\u001b[0m: the JSON object must be str, bytes or bytearray, not 'Entity'"
     ]
    }
   ],
   "source": [
    "import json\n",
    "\n",
    "json.loads(entities[0])"
   ]
  },
  {
   "cell_type": "code",
   "execution_count": 24,
   "metadata": {},
   "outputs": [
    {
     "data": {
      "text/plain": [
       "'Clive Humby'"
      ]
     },
     "execution_count": 24,
     "metadata": {},
     "output_type": "execute_result"
    }
   ],
   "source": [
    "entities[0].name"
   ]
  }
 ],
 "metadata": {
  "kernelspec": {
   "display_name": "Python 3",
   "language": "python",
   "name": "python3"
  },
  "language_info": {
   "codemirror_mode": {
    "name": "ipython",
    "version": 3
   },
   "file_extension": ".py",
   "mimetype": "text/x-python",
   "name": "python",
   "nbconvert_exporter": "python",
   "pygments_lexer": "ipython3",
   "version": "3.6.8"
  }
 },
 "nbformat": 4,
 "nbformat_minor": 2
}
